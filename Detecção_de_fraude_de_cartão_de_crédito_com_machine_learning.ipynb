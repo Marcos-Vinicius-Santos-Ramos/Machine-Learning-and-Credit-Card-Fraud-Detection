{
 "cells": [
  {
   "cell_type": "markdown",
   "id": "a595c727",
   "metadata": {},
   "source": [
    "<h1 style=\"text-align: center;\">Credit Card Fraud Detector</h1>\n",
    "\n",
    "---"
   ]
  },
  {
   "cell_type": "markdown",
   "id": "ecd10101",
   "metadata": {},
   "source": [
    "# Introdução"
   ]
  },
  {
   "cell_type": "markdown",
   "id": "891f474b",
   "metadata": {},
   "source": [
    "## Propósito\n",
    "\n",
    "Este projeto tem como objetivo o meu aprendizado sobre comportamentos fraudulentos e a criação de um modelo de aprendizado de máquina capaz de classificar corretamente transações de cartões de crédito fraudulentas.\n",
    "\n",
    "### Como?\n",
    "\n",
    "Para isso irei utilizar um conjunto de dados proveniente da plataforma Kaggle.\n",
    "\n",
    "Os dados estão disponíveis para download através deste link: https://www.kaggle.com/datasets/mlg-ulb/creditcardfraud?datasetId=310&sortBy=voteCount"
   ]
  },
  {
   "cell_type": "markdown",
   "id": "90987df5",
   "metadata": {},
   "source": [
    "## Entendendo os dados\n",
    "\n",
    "Este conjunto de dados contém transações de cartões de crédito feitas por Europeus em setembro de 2013 durante dois dias. Cada linha representa uma transação e cada coluna uma iformação sobre a transação.\n",
    "\n",
    "O dataset contém 31 colunas e todas são numéricas. Sabemos o significado de apenas 3: \"Time\", \"Amount\" e \"Class\".\n",
    "- Time: tempo (em segundos) que se passaram entre cada transação e a primeira transação do conjunto de dados\n",
    "- Amount: valor da transação\n",
    "- Class: variável binária que identifica transações como não-fraudulentas (0) e fraudulentas (1)\n",
    "\n",
    "As outras 28 features (\"V1\", \"V2\"... \"V28\") sofreram transformação PCA e tiveram seus nomes ocultados por questões de privacidade. Ou seja, a única coisa que sabemos sobre elas é que já foram escaladas."
   ]
  },
  {
   "cell_type": "markdown",
   "id": "3c7f6ec7",
   "metadata": {},
   "source": [
    "## Etapas do projeto\n",
    "\n",
    "Para atingir estes objetivos planejo seguir as seguintes etapas:\n",
    "\n",
    "- Contextualização do problema\n",
    "- Importação dos dados\n",
    "- Análise exploratória dos dados\n",
    "- Limpeza dos dados e pré-processamento\n",
    "- Modelagem dos dados\n",
    "- Treinar algoritmos Classificadores de aprendizagem de máquina\n",
    "- Avaliar a performance dos algoritmos\n",
    "- Utilizar técnicas para conseguir a melhor performance possível"
   ]
  },
  {
   "cell_type": "markdown",
   "id": "d7f64322",
   "metadata": {},
   "source": [
    "# Contextualização do problema"
   ]
  },
  {
   "cell_type": "markdown",
   "id": "c26f9021",
   "metadata": {},
   "source": [
    "Tipicamente uma organização perde 5% da sua receita por fraude a cada ano. Na verdade, estimasse que fraude custe para o Reino Unido 73 bilhões de libras esterlinas.\n",
    "\n",
    "Comportamentos fraudulentos podem ser encontrados em diversas áreas. A fraude de cartão de crédito provavelmente é o exemplo mais conhecido, mas também encontramos fraude na área de seguros, lavagem de dinheiro, evasão fiscal etc.\n",
    "\n",
    "## Alguns fatores dificultam a detecção de fraude:\n",
    "\n",
    "- Casos de fraude são minoria: geralmente menos de 1% das transações de uma empresa são fauduletas\n",
    "- Fraudadores tentam ao máximo \"se misturar\" e esconder as suas atividades\n",
    "- Fraudadores mudam seus métodos e comportamentos com o tempo\n",
    "- Fraudadores geralmente trabalham em conjunto de forma organizada, dificultando a detecção de fraude\n",
    "\n",
    "## Como as empresas lidam com fraude?\n",
    "\n",
    "Geralmente as empresas possuem um time de analistas de fraude. Esse time tenta detectar as fraudes através de alguns métodos:\n",
    "- Definir regras e limiares para filtrar casos estranhos\n",
    "- Ficam atentos à notícias para nomes suspeitos\n",
    "- Utilizam listas de ocorrências externas da polícia e contrastam com a base de clientes\n",
    "- Utilizam algorítimos de aprendizado de máquina para detectar fraude e/ou comportamentos suspeitos:\n",
    "    - Os métodos anteriores podem ser úteis para treinar um modelo de aprendizado de máquina (podemos utilizá-los como \"input\" para a nossa análise). Porém, devemos ter em mente que os rótulos provenientes de sistemas baseados em regras podem não detectar todos os casos fraudulentos. Ou seja, devemos sempre nos perguntar se estes rótulos são confiáveis ou não."
   ]
  },
  {
   "cell_type": "markdown",
   "id": "cf307b3e",
   "metadata": {},
   "source": [
    "# Instalando e importando bibliotecas que serão utilizadas"
   ]
  },
  {
   "cell_type": "code",
   "execution_count": 2,
   "id": "7c2fcf6e",
   "metadata": {},
   "outputs": [],
   "source": [
    "# Célula com o código para instalar as versões utilizadas nesse projeto, depois que eu concluir\n"
   ]
  },
  {
   "cell_type": "code",
   "execution_count": 3,
   "id": "77a87bd3",
   "metadata": {},
   "outputs": [],
   "source": [
    "# Importando bibliotecas úteis\n",
    "\n",
    "import pandas as pd\n",
    "import seaborn as sns\n",
    "import matplotlib.pyplot as plt\n",
    "import numpy as np"
   ]
  },
  {
   "cell_type": "markdown",
   "id": "95a557de",
   "metadata": {},
   "source": [
    "## Importação dos dados"
   ]
  },
  {
   "cell_type": "code",
   "execution_count": 4,
   "id": "7ed98495",
   "metadata": {},
   "outputs": [],
   "source": [
    "# Instanciando o conjunto de dados em um objeto DataFrame do pandas, sob o acrônimo ccf_df (credit card fraud data frame)\n",
    "ccf_df = pd.read_csv('datasets/creditcard.csv')"
   ]
  },
  {
   "cell_type": "markdown",
   "id": "9bc13eb5",
   "metadata": {},
   "source": [
    "# Exploração inicial dos dados"
   ]
  },
  {
   "cell_type": "code",
   "execution_count": 14,
   "id": "1135d11f",
   "metadata": {},
   "outputs": [
    {
     "data": {
      "text/plain": [
       "Index(['Time', 'V1', 'V2', 'V3', 'V4', 'V5', 'V6', 'V7', 'V8', 'V9', 'V10',\n",
       "       'V11', 'V12', 'V13', 'V14', 'V15', 'V16', 'V17', 'V18', 'V19', 'V20',\n",
       "       'V21', 'V22', 'V23', 'V24', 'V25', 'V26', 'V27', 'V28', 'Amount',\n",
       "       'Class'],\n",
       "      dtype='object')"
      ]
     },
     "execution_count": 14,
     "metadata": {},
     "output_type": "execute_result"
    }
   ],
   "source": [
    "# Mostrando as colunas do DataFrame\n",
    "ccf_df.columns"
   ]
  },
  {
   "cell_type": "code",
   "execution_count": 5,
   "id": "d112192f",
   "metadata": {},
   "outputs": [
    {
     "data": {
      "text/html": [
       "<div>\n",
       "<style scoped>\n",
       "    .dataframe tbody tr th:only-of-type {\n",
       "        vertical-align: middle;\n",
       "    }\n",
       "\n",
       "    .dataframe tbody tr th {\n",
       "        vertical-align: top;\n",
       "    }\n",
       "\n",
       "    .dataframe thead th {\n",
       "        text-align: right;\n",
       "    }\n",
       "</style>\n",
       "<table border=\"1\" class=\"dataframe\">\n",
       "  <thead>\n",
       "    <tr style=\"text-align: right;\">\n",
       "      <th></th>\n",
       "      <th>Time</th>\n",
       "      <th>V1</th>\n",
       "      <th>V2</th>\n",
       "      <th>V3</th>\n",
       "      <th>V4</th>\n",
       "      <th>V5</th>\n",
       "      <th>V6</th>\n",
       "      <th>V7</th>\n",
       "      <th>V8</th>\n",
       "      <th>V9</th>\n",
       "      <th>...</th>\n",
       "      <th>V21</th>\n",
       "      <th>V22</th>\n",
       "      <th>V23</th>\n",
       "      <th>V24</th>\n",
       "      <th>V25</th>\n",
       "      <th>V26</th>\n",
       "      <th>V27</th>\n",
       "      <th>V28</th>\n",
       "      <th>Amount</th>\n",
       "      <th>Class</th>\n",
       "    </tr>\n",
       "  </thead>\n",
       "  <tbody>\n",
       "    <tr>\n",
       "      <th>0</th>\n",
       "      <td>0.0</td>\n",
       "      <td>-1.359807</td>\n",
       "      <td>-0.072781</td>\n",
       "      <td>2.536347</td>\n",
       "      <td>1.378155</td>\n",
       "      <td>-0.338321</td>\n",
       "      <td>0.462388</td>\n",
       "      <td>0.239599</td>\n",
       "      <td>0.098698</td>\n",
       "      <td>0.363787</td>\n",
       "      <td>...</td>\n",
       "      <td>-0.018307</td>\n",
       "      <td>0.277838</td>\n",
       "      <td>-0.110474</td>\n",
       "      <td>0.066928</td>\n",
       "      <td>0.128539</td>\n",
       "      <td>-0.189115</td>\n",
       "      <td>0.133558</td>\n",
       "      <td>-0.021053</td>\n",
       "      <td>149.62</td>\n",
       "      <td>0</td>\n",
       "    </tr>\n",
       "    <tr>\n",
       "      <th>1</th>\n",
       "      <td>0.0</td>\n",
       "      <td>1.191857</td>\n",
       "      <td>0.266151</td>\n",
       "      <td>0.166480</td>\n",
       "      <td>0.448154</td>\n",
       "      <td>0.060018</td>\n",
       "      <td>-0.082361</td>\n",
       "      <td>-0.078803</td>\n",
       "      <td>0.085102</td>\n",
       "      <td>-0.255425</td>\n",
       "      <td>...</td>\n",
       "      <td>-0.225775</td>\n",
       "      <td>-0.638672</td>\n",
       "      <td>0.101288</td>\n",
       "      <td>-0.339846</td>\n",
       "      <td>0.167170</td>\n",
       "      <td>0.125895</td>\n",
       "      <td>-0.008983</td>\n",
       "      <td>0.014724</td>\n",
       "      <td>2.69</td>\n",
       "      <td>0</td>\n",
       "    </tr>\n",
       "    <tr>\n",
       "      <th>2</th>\n",
       "      <td>1.0</td>\n",
       "      <td>-1.358354</td>\n",
       "      <td>-1.340163</td>\n",
       "      <td>1.773209</td>\n",
       "      <td>0.379780</td>\n",
       "      <td>-0.503198</td>\n",
       "      <td>1.800499</td>\n",
       "      <td>0.791461</td>\n",
       "      <td>0.247676</td>\n",
       "      <td>-1.514654</td>\n",
       "      <td>...</td>\n",
       "      <td>0.247998</td>\n",
       "      <td>0.771679</td>\n",
       "      <td>0.909412</td>\n",
       "      <td>-0.689281</td>\n",
       "      <td>-0.327642</td>\n",
       "      <td>-0.139097</td>\n",
       "      <td>-0.055353</td>\n",
       "      <td>-0.059752</td>\n",
       "      <td>378.66</td>\n",
       "      <td>0</td>\n",
       "    </tr>\n",
       "    <tr>\n",
       "      <th>3</th>\n",
       "      <td>1.0</td>\n",
       "      <td>-0.966272</td>\n",
       "      <td>-0.185226</td>\n",
       "      <td>1.792993</td>\n",
       "      <td>-0.863291</td>\n",
       "      <td>-0.010309</td>\n",
       "      <td>1.247203</td>\n",
       "      <td>0.237609</td>\n",
       "      <td>0.377436</td>\n",
       "      <td>-1.387024</td>\n",
       "      <td>...</td>\n",
       "      <td>-0.108300</td>\n",
       "      <td>0.005274</td>\n",
       "      <td>-0.190321</td>\n",
       "      <td>-1.175575</td>\n",
       "      <td>0.647376</td>\n",
       "      <td>-0.221929</td>\n",
       "      <td>0.062723</td>\n",
       "      <td>0.061458</td>\n",
       "      <td>123.50</td>\n",
       "      <td>0</td>\n",
       "    </tr>\n",
       "    <tr>\n",
       "      <th>4</th>\n",
       "      <td>2.0</td>\n",
       "      <td>-1.158233</td>\n",
       "      <td>0.877737</td>\n",
       "      <td>1.548718</td>\n",
       "      <td>0.403034</td>\n",
       "      <td>-0.407193</td>\n",
       "      <td>0.095921</td>\n",
       "      <td>0.592941</td>\n",
       "      <td>-0.270533</td>\n",
       "      <td>0.817739</td>\n",
       "      <td>...</td>\n",
       "      <td>-0.009431</td>\n",
       "      <td>0.798278</td>\n",
       "      <td>-0.137458</td>\n",
       "      <td>0.141267</td>\n",
       "      <td>-0.206010</td>\n",
       "      <td>0.502292</td>\n",
       "      <td>0.219422</td>\n",
       "      <td>0.215153</td>\n",
       "      <td>69.99</td>\n",
       "      <td>0</td>\n",
       "    </tr>\n",
       "  </tbody>\n",
       "</table>\n",
       "<p>5 rows × 31 columns</p>\n",
       "</div>"
      ],
      "text/plain": [
       "   Time        V1        V2        V3        V4        V5        V6        V7  \\\n",
       "0   0.0 -1.359807 -0.072781  2.536347  1.378155 -0.338321  0.462388  0.239599   \n",
       "1   0.0  1.191857  0.266151  0.166480  0.448154  0.060018 -0.082361 -0.078803   \n",
       "2   1.0 -1.358354 -1.340163  1.773209  0.379780 -0.503198  1.800499  0.791461   \n",
       "3   1.0 -0.966272 -0.185226  1.792993 -0.863291 -0.010309  1.247203  0.237609   \n",
       "4   2.0 -1.158233  0.877737  1.548718  0.403034 -0.407193  0.095921  0.592941   \n",
       "\n",
       "         V8        V9  ...       V21       V22       V23       V24       V25  \\\n",
       "0  0.098698  0.363787  ... -0.018307  0.277838 -0.110474  0.066928  0.128539   \n",
       "1  0.085102 -0.255425  ... -0.225775 -0.638672  0.101288 -0.339846  0.167170   \n",
       "2  0.247676 -1.514654  ...  0.247998  0.771679  0.909412 -0.689281 -0.327642   \n",
       "3  0.377436 -1.387024  ... -0.108300  0.005274 -0.190321 -1.175575  0.647376   \n",
       "4 -0.270533  0.817739  ... -0.009431  0.798278 -0.137458  0.141267 -0.206010   \n",
       "\n",
       "        V26       V27       V28  Amount  Class  \n",
       "0 -0.189115  0.133558 -0.021053  149.62      0  \n",
       "1  0.125895 -0.008983  0.014724    2.69      0  \n",
       "2 -0.139097 -0.055353 -0.059752  378.66      0  \n",
       "3 -0.221929  0.062723  0.061458  123.50      0  \n",
       "4  0.502292  0.219422  0.215153   69.99      0  \n",
       "\n",
       "[5 rows x 31 columns]"
      ]
     },
     "execution_count": 5,
     "metadata": {},
     "output_type": "execute_result"
    }
   ],
   "source": [
    "# Mostrando as primeiras 5 transações da tabela\n",
    "ccf_df.head()"
   ]
  },
  {
   "cell_type": "code",
   "execution_count": 6,
   "id": "691ce600",
   "metadata": {},
   "outputs": [
    {
     "data": {
      "text/plain": [
       "(284807, 31)"
      ]
     },
     "execution_count": 6,
     "metadata": {},
     "output_type": "execute_result"
    }
   ],
   "source": [
    "# Mostrando a quantidade de linhas e colunas\n",
    "ccf_df.shape"
   ]
  },
  {
   "cell_type": "code",
   "execution_count": 7,
   "id": "3c251f1a",
   "metadata": {},
   "outputs": [
    {
     "name": "stdout",
     "output_type": "stream",
     "text": [
      "<class 'pandas.core.frame.DataFrame'>\n",
      "RangeIndex: 284807 entries, 0 to 284806\n",
      "Data columns (total 31 columns):\n",
      " #   Column  Non-Null Count   Dtype  \n",
      "---  ------  --------------   -----  \n",
      " 0   Time    284807 non-null  float64\n",
      " 1   V1      284807 non-null  float64\n",
      " 2   V2      284807 non-null  float64\n",
      " 3   V3      284807 non-null  float64\n",
      " 4   V4      284807 non-null  float64\n",
      " 5   V5      284807 non-null  float64\n",
      " 6   V6      284807 non-null  float64\n",
      " 7   V7      284807 non-null  float64\n",
      " 8   V8      284807 non-null  float64\n",
      " 9   V9      284807 non-null  float64\n",
      " 10  V10     284807 non-null  float64\n",
      " 11  V11     284807 non-null  float64\n",
      " 12  V12     284807 non-null  float64\n",
      " 13  V13     284807 non-null  float64\n",
      " 14  V14     284807 non-null  float64\n",
      " 15  V15     284807 non-null  float64\n",
      " 16  V16     284807 non-null  float64\n",
      " 17  V17     284807 non-null  float64\n",
      " 18  V18     284807 non-null  float64\n",
      " 19  V19     284807 non-null  float64\n",
      " 20  V20     284807 non-null  float64\n",
      " 21  V21     284807 non-null  float64\n",
      " 22  V22     284807 non-null  float64\n",
      " 23  V23     284807 non-null  float64\n",
      " 24  V24     284807 non-null  float64\n",
      " 25  V25     284807 non-null  float64\n",
      " 26  V26     284807 non-null  float64\n",
      " 27  V27     284807 non-null  float64\n",
      " 28  V28     284807 non-null  float64\n",
      " 29  Amount  284807 non-null  float64\n",
      " 30  Class   284807 non-null  int64  \n",
      "dtypes: float64(30), int64(1)\n",
      "memory usage: 67.4 MB\n"
     ]
    }
   ],
   "source": [
    "# Explorando as features disponíveis no conjunto de dados\n",
    "ccf_df.info()"
   ]
  },
  {
   "cell_type": "markdown",
   "id": "c81536da",
   "metadata": {},
   "source": [
    "Ótimo! não existem valores nulos. Todas as colunas são numéricas a parecem estar no tipo certo."
   ]
  },
  {
   "cell_type": "code",
   "execution_count": 201,
   "id": "fa60698a",
   "metadata": {},
   "outputs": [
    {
     "data": {
      "text/plain": [
       "0    284315\n",
       "1       492\n",
       "Name: Class, dtype: int64"
      ]
     },
     "metadata": {},
     "output_type": "display_data"
    }
   ],
   "source": [
    "# Contando o número de ocorrências de transações fraudulentas e não fraudulentas e guardando no acrônimo occ (occurrence)\n",
    "occ = ccf_df['Class'].value_counts()\n",
    "display(occ)"
   ]
  },
  {
   "cell_type": "markdown",
   "id": "785f8562",
   "metadata": {},
   "source": [
    "Como esperado para estes casos, existe uma ocorrência muito maior de transações legítimas do que de transações fraudulentas.\n",
    "\n",
    "Isso pode ser um problema ao treinarmos nosso modelo de aprendizagem de máquina. Geralmente estes modelos funcionam melhor quando existe um número semelhante de ocorrências em cada classe. Se existem poucos casos de fraude, então existe poucos dados para ensinar o modelo a identificar fraude.\n",
    "\n",
    "Isso é chamado de \"class imbalance\" e é um dos principais desafios na detecção de fraude.\n",
    "\n",
    "Por curiosidade, vamos ver a proporção de indivíduos em cada classe:"
   ]
  },
  {
   "cell_type": "code",
   "execution_count": 38,
   "id": "6b0ae760",
   "metadata": {},
   "outputs": [
    {
     "data": {
      "text/plain": [
       "0    99.827251\n",
       "1     0.172749\n",
       "Name: Class, dtype: float64"
      ]
     },
     "execution_count": 38,
     "metadata": {},
     "output_type": "execute_result"
    }
   ],
   "source": [
    "# Calculando a proporção de indivíduos em cada classe\n",
    "(occ / len(ccf_df)) * 100"
   ]
  },
  {
   "cell_type": "markdown",
   "id": "7c376870",
   "metadata": {},
   "source": [
    "Transações legítimas representam 99,83% das transações, enquanto transações fraudulentas representam apenas 0,17%.\n",
    "\n",
    "Acurácia natural: isso significa que se \"chutarmos\" que todas as transações são legítimas acertaríamos 99,83% das vezes.\n",
    "\n",
    "Ou seja, para casos em que os dados sofrem de desequilíbrio de classes a acurácia não é uma métrica útil. \n",
    "\n",
    "Neste caso, uma métrica melhor para avaliar a performance do modelo seria a pontuação de revocação (ou \"recall\", em inglês)."
   ]
  },
  {
   "cell_type": "markdown",
   "id": "288c7ddf",
   "metadata": {},
   "source": [
    "## Visualizando proporção de transações legítimas e fraudulentas"
   ]
  },
  {
   "cell_type": "code",
   "execution_count": 170,
   "id": "2d3afac1",
   "metadata": {},
   "outputs": [
    {
     "data": {
      "image/png": "[encoded data removed]",
      "text/plain": [
       "<Figure size 800x550 with 1 Axes>"
      ]
     },
     "metadata": {},
     "output_type": "display_data"
    }
   ],
   "source": [
    "# Rótulos dos dados do gráfico de pizza\n",
    "pie_labels = ['Legítimas', 'Fraudulentas']\n",
    "\n",
    "# Definindo paleta de cores\n",
    "pie_colors = sns.color_palette('pastel')[0:5]\n",
    "\n",
    "# Criando gráfico de pizza\n",
    "plt.pie(occ, colors=pie_colors, autopct='%0.2f%%', explode = (0, 0.1))\n",
    "plt.legend(labels=pie_labels, fontsize='medium')\n",
    "plt.show()"
   ]
  },
  {
   "cell_type": "markdown",
   "id": "eac17b29",
   "metadata": {},
   "source": [
    "# Pré processamento dos dados"
   ]
  },
  {
   "cell_type": "markdown",
   "id": "ef41177a",
   "metadata": {},
   "source": [
    "## Escalando features \"Amount\" e \"Time\""
   ]
  },
  {
   "cell_type": "markdown",
   "id": "db0a8e67",
   "metadata": {},
   "source": [
    "Já vimos que as colunas \"V1\", \"V2\" ... \"V28\" estão escaladas. Portanto, só faltam ser escaladas as colunas \"Amount\" e \"Time\". \n",
    "\n",
    "A seguir vou criar novas colunas \"Scaled_Amout\" e \"Scaled_Time\", e remover as colunas coriginais."
   ]
  },
  {
   "cell_type": "code",
   "execution_count": null,
   "id": "ec73156f",
   "metadata": {},
   "outputs": [],
   "source": [
    "from sklearn.preprocessing import StandardScaler, RobustScaler\n",
    "\n",
    "# Instanciando RobustScaler\n",
    "rob_scaler = RobustScaler()\n",
    "\n",
    "# Instanciando objetos que irão guardar o valro das series\n",
    "Scaled_Amount = rob_scaler.fit_transform(ccf_df['Amount'].values.reshape(-1, 1))\n",
    "Scaled_Time = rob_scaler.fit_transform(ccf_df['Time'].values.reshape(-1, 1))\n",
    "\n",
    "# Criando novas colunas escaladas\n",
    "ccf_df.insert(0, 'Scaled_Time', Scaled_Time)\n",
    "ccf_df.insert(1, 'Scaled_Amount', Scaled_Amount)\n",
    "\n",
    "# Removendo colunas antigas\n",
    "ccf_df.drop(['Time', 'Amount'], axis=1, inplace=True)"
   ]
  },
  {
   "cell_type": "code",
   "execution_count": 67,
   "id": "78184cbc",
   "metadata": {},
   "outputs": [
    {
     "data": {
      "text/html": [
       "<div>\n",
       "<style scoped>\n",
       "    .dataframe tbody tr th:only-of-type {\n",
       "        vertical-align: middle;\n",
       "    }\n",
       "\n",
       "    .dataframe tbody tr th {\n",
       "        vertical-align: top;\n",
       "    }\n",
       "\n",
       "    .dataframe thead th {\n",
       "        text-align: right;\n",
       "    }\n",
       "</style>\n",
       "<table border=\"1\" class=\"dataframe\">\n",
       "  <thead>\n",
       "    <tr style=\"text-align: right;\">\n",
       "      <th></th>\n",
       "      <th>Scaled_Time</th>\n",
       "      <th>Scaled_Amount</th>\n",
       "      <th>V1</th>\n",
       "      <th>V2</th>\n",
       "      <th>V3</th>\n",
       "      <th>V4</th>\n",
       "      <th>V5</th>\n",
       "      <th>V6</th>\n",
       "      <th>V7</th>\n",
       "      <th>V8</th>\n",
       "      <th>...</th>\n",
       "      <th>V20</th>\n",
       "      <th>V21</th>\n",
       "      <th>V22</th>\n",
       "      <th>V23</th>\n",
       "      <th>V24</th>\n",
       "      <th>V25</th>\n",
       "      <th>V26</th>\n",
       "      <th>V27</th>\n",
       "      <th>V28</th>\n",
       "      <th>Class</th>\n",
       "    </tr>\n",
       "  </thead>\n",
       "  <tbody>\n",
       "    <tr>\n",
       "      <th>0</th>\n",
       "      <td>-0.994983</td>\n",
       "      <td>1.783274</td>\n",
       "      <td>-1.359807</td>\n",
       "      <td>-0.072781</td>\n",
       "      <td>2.536347</td>\n",
       "      <td>1.378155</td>\n",
       "      <td>-0.338321</td>\n",
       "      <td>0.462388</td>\n",
       "      <td>0.239599</td>\n",
       "      <td>0.098698</td>\n",
       "      <td>...</td>\n",
       "      <td>0.251412</td>\n",
       "      <td>-0.018307</td>\n",
       "      <td>0.277838</td>\n",
       "      <td>-0.110474</td>\n",
       "      <td>0.066928</td>\n",
       "      <td>0.128539</td>\n",
       "      <td>-0.189115</td>\n",
       "      <td>0.133558</td>\n",
       "      <td>-0.021053</td>\n",
       "      <td>0</td>\n",
       "    </tr>\n",
       "    <tr>\n",
       "      <th>1</th>\n",
       "      <td>-0.994983</td>\n",
       "      <td>-0.269825</td>\n",
       "      <td>1.191857</td>\n",
       "      <td>0.266151</td>\n",
       "      <td>0.166480</td>\n",
       "      <td>0.448154</td>\n",
       "      <td>0.060018</td>\n",
       "      <td>-0.082361</td>\n",
       "      <td>-0.078803</td>\n",
       "      <td>0.085102</td>\n",
       "      <td>...</td>\n",
       "      <td>-0.069083</td>\n",
       "      <td>-0.225775</td>\n",
       "      <td>-0.638672</td>\n",
       "      <td>0.101288</td>\n",
       "      <td>-0.339846</td>\n",
       "      <td>0.167170</td>\n",
       "      <td>0.125895</td>\n",
       "      <td>-0.008983</td>\n",
       "      <td>0.014724</td>\n",
       "      <td>0</td>\n",
       "    </tr>\n",
       "    <tr>\n",
       "      <th>2</th>\n",
       "      <td>-0.994972</td>\n",
       "      <td>4.983721</td>\n",
       "      <td>-1.358354</td>\n",
       "      <td>-1.340163</td>\n",
       "      <td>1.773209</td>\n",
       "      <td>0.379780</td>\n",
       "      <td>-0.503198</td>\n",
       "      <td>1.800499</td>\n",
       "      <td>0.791461</td>\n",
       "      <td>0.247676</td>\n",
       "      <td>...</td>\n",
       "      <td>0.524980</td>\n",
       "      <td>0.247998</td>\n",
       "      <td>0.771679</td>\n",
       "      <td>0.909412</td>\n",
       "      <td>-0.689281</td>\n",
       "      <td>-0.327642</td>\n",
       "      <td>-0.139097</td>\n",
       "      <td>-0.055353</td>\n",
       "      <td>-0.059752</td>\n",
       "      <td>0</td>\n",
       "    </tr>\n",
       "    <tr>\n",
       "      <th>3</th>\n",
       "      <td>-0.994972</td>\n",
       "      <td>1.418291</td>\n",
       "      <td>-0.966272</td>\n",
       "      <td>-0.185226</td>\n",
       "      <td>1.792993</td>\n",
       "      <td>-0.863291</td>\n",
       "      <td>-0.010309</td>\n",
       "      <td>1.247203</td>\n",
       "      <td>0.237609</td>\n",
       "      <td>0.377436</td>\n",
       "      <td>...</td>\n",
       "      <td>-0.208038</td>\n",
       "      <td>-0.108300</td>\n",
       "      <td>0.005274</td>\n",
       "      <td>-0.190321</td>\n",
       "      <td>-1.175575</td>\n",
       "      <td>0.647376</td>\n",
       "      <td>-0.221929</td>\n",
       "      <td>0.062723</td>\n",
       "      <td>0.061458</td>\n",
       "      <td>0</td>\n",
       "    </tr>\n",
       "    <tr>\n",
       "      <th>4</th>\n",
       "      <td>-0.994960</td>\n",
       "      <td>0.670579</td>\n",
       "      <td>-1.158233</td>\n",
       "      <td>0.877737</td>\n",
       "      <td>1.548718</td>\n",
       "      <td>0.403034</td>\n",
       "      <td>-0.407193</td>\n",
       "      <td>0.095921</td>\n",
       "      <td>0.592941</td>\n",
       "      <td>-0.270533</td>\n",
       "      <td>...</td>\n",
       "      <td>0.408542</td>\n",
       "      <td>-0.009431</td>\n",
       "      <td>0.798278</td>\n",
       "      <td>-0.137458</td>\n",
       "      <td>0.141267</td>\n",
       "      <td>-0.206010</td>\n",
       "      <td>0.502292</td>\n",
       "      <td>0.219422</td>\n",
       "      <td>0.215153</td>\n",
       "      <td>0</td>\n",
       "    </tr>\n",
       "  </tbody>\n",
       "</table>\n",
       "<p>5 rows × 31 columns</p>\n",
       "</div>"
      ],
      "text/plain": [
       "   Scaled_Time  Scaled_Amount        V1        V2        V3        V4  \\\n",
       "0    -0.994983       1.783274 -1.359807 -0.072781  2.536347  1.378155   \n",
       "1    -0.994983      -0.269825  1.191857  0.266151  0.166480  0.448154   \n",
       "2    -0.994972       4.983721 -1.358354 -1.340163  1.773209  0.379780   \n",
       "3    -0.994972       1.418291 -0.966272 -0.185226  1.792993 -0.863291   \n",
       "4    -0.994960       0.670579 -1.158233  0.877737  1.548718  0.403034   \n",
       "\n",
       "         V5        V6        V7        V8  ...       V20       V21       V22  \\\n",
       "0 -0.338321  0.462388  0.239599  0.098698  ...  0.251412 -0.018307  0.277838   \n",
       "1  0.060018 -0.082361 -0.078803  0.085102  ... -0.069083 -0.225775 -0.638672   \n",
       "2 -0.503198  1.800499  0.791461  0.247676  ...  0.524980  0.247998  0.771679   \n",
       "3 -0.010309  1.247203  0.237609  0.377436  ... -0.208038 -0.108300  0.005274   \n",
       "4 -0.407193  0.095921  0.592941 -0.270533  ...  0.408542 -0.009431  0.798278   \n",
       "\n",
       "        V23       V24       V25       V26       V27       V28  Class  \n",
       "0 -0.110474  0.066928  0.128539 -0.189115  0.133558 -0.021053      0  \n",
       "1  0.101288 -0.339846  0.167170  0.125895 -0.008983  0.014724      0  \n",
       "2  0.909412 -0.689281 -0.327642 -0.139097 -0.055353 -0.059752      0  \n",
       "3 -0.190321 -1.175575  0.647376 -0.221929  0.062723  0.061458      0  \n",
       "4 -0.137458  0.141267 -0.206010  0.502292  0.219422  0.215153      0  \n",
       "\n",
       "[5 rows x 31 columns]"
      ]
     },
     "execution_count": 67,
     "metadata": {},
     "output_type": "execute_result"
    }
   ],
   "source": [
    "# Checando o novo DataFrame\n",
    "ccf_df.head()"
   ]
  },
  {
   "cell_type": "markdown",
   "id": "ff0a7d48",
   "metadata": {},
   "source": [
    "## Reamostragem dos dados"
   ]
  },
  {
   "cell_type": "markdown",
   "id": "219c7640",
   "metadata": {},
   "source": [
    "Já vimos que os dados sofrem de \"class imbalance\" (desequilíbrio de classe) e como isso pode afetar o treinamento dos modelos.\n",
    "\n",
    "Para resolver este problema vou utilizar uma técnica chamada \"Resampling\" (reamostragem), onde eu transformo as minhas amostras para igualar o número de ocorrências entre uma classe e outra.\n",
    "\n",
    "Tenho duas alternativas:\n",
    "- Undersampling (Subamostragem): reduzir aleatoriamente a quantidade de ocorrências da classe mais prevalente (neste caso de transações legítimas)\n",
    "    - Vantagens: é mais \"barato\" computacionalmente pois reduzimos a quantidades de dados que serão processados\n",
    "    - Desvantagens: descartamos muitos dados e informações que são valiosas na hora de treinar o modelo\n",
    "\n",
    "- Oversampling (Sobreamostragem): copiar observações aleatórias do grupo menos prevalente (neste caso transações fraudulentas) de modo que tenha o mesmo número de ocorrências que o grupo mais prevalente\n",
    "    - Vantagens: simples de se implementar\n",
    "    - Desvantagens: estamos apenas copiando dados, assim, treinando nosso modelo com várias duplicatas\n",
    "    - Synthetic Minority Over-sampling Technique (SMOTE): técnica de \"oversampling\" que cria amostras sintéticas similares as amostras da classe menos prevalente. Utiliza da técnica \"Nearest neighbors\" (vizinhos mais próximos) para definir uma amostra sintética como fraude, por exemplo.\n",
    "        - Importante: Nem sempre a reamostragem necessariamente leva a melhores resultados. Quando os casos de fraude estão muito espalhados pelos dados, o uso do SMOTE pode introduzir um pouco de viés. Os vizinhos mais próximos não são necessariamente casos de fraude, então as amostras sintéticas podem 'confundir' um pouco o modelo.\n",
    "\n",
    "Importante: ao utilziar métodos de \"resampling\", devo aplicálos apenas no conjunto de treinamento. Meu objetivo é treinar melhor o modelo ao equilibrar a quantidade de ocorrências em cada grupo, e não prever as minhas amostras sintéticas.\n",
    "Nosso conjunto de teste deve estar livre de dados sintéticos ou duplicados para que possamos testar o modelo em dados reais."
   ]
  },
  {
   "cell_type": "code",
   "execution_count": 188,
   "id": "8217ef9f",
   "metadata": {},
   "outputs": [],
   "source": [
    "SEED = 1\n",
    "\n",
    "# Importando biblioteca útil para dividir os dados em teste e treino\n",
    "from sklearn.model_selection import train_test_split\n",
    "\n",
    "# Importando biblioteca útil para realizar a reamostragem\n",
    "from imblearn.under_sampling import RandomUnderSampler\n",
    "\n",
    "# Instanciando RandomUnderSampler\n",
    "rus = RandomUnderSampler()\n",
    "\n",
    "# Instanciando Features\n",
    "X = ccf_df.drop('Class', axis=1).values\n",
    "\n",
    "# Instanciando Target\n",
    "y = ccf_df['Class'].values.reshape(-1, 1)\n",
    "\n",
    "# Separando os dados em 70% treino e 30% teste\n",
    "X_train, X_test, y_train, y_test = train_test_split(X, y,\n",
    "                                                    test_size=0.3,\n",
    "                                                    random_state=SEED)\n",
    "\n",
    "# Realizando a subamostragem aleatória\n",
    "X_resampled, y_resampled = rus.fit_resample(X_train, y_train)"
   ]
  },
  {
   "cell_type": "markdown",
   "id": "dda7a696",
   "metadata": {},
   "source": [
    "## Visualizando proporção de transações legítimas e fraudulentas no conjunto de treino"
   ]
  },
  {
   "cell_type": "code",
   "execution_count": 218,
   "id": "9b341941",
   "metadata": {},
   "outputs": [
    {
     "data": {
      "image/png": "[encoded data removed]",
      "text/plain": [
       "<Figure size 800x550 with 2 Axes>"
      ]
     },
     "metadata": {},
     "output_type": "display_data"
    },
    {
     "name": "stdout",
     "output_type": "stream",
     "text": [
      "Ocorrências no conjunto de treino antes da reamostragem:\n",
      "0    199007\n",
      "1       357\n",
      "\n",
      "Ocorrências no conjunto de treino após a reamostragem:\n",
      "0    357\n",
      "1    357\n"
     ]
    }
   ],
   "source": [
    "fig, ax = plt.subplots(1, 2)\n",
    "\n",
    "train_count = pd.Series(y_train.flatten()).value_counts()\n",
    "\n",
    "train_resampled_count = pd.Series(y_resampled).value_counts()\n",
    "\n",
    "pie_labels = ['Legítimas', 'Fraudulentas']\n",
    "\n",
    "# Criando gráficos comparativos\n",
    "fig.suptitle('Proporções no Grupo de Treino', fontsize=15, y=0.86)\n",
    "\n",
    "ax[0].pie(train_count, colors=pie_colors, autopct='%0.2f%%')\n",
    "ax[0].legend(labels=pie_labels, prop={'size':7.8})\n",
    "ax[0].set_title('Antes da Reamostragem')\n",
    "\n",
    "ax[1].pie(train_resampled_count, colors=pie_colors, autopct='%0.2f%%')\n",
    "ax[1].legend(labels=pie_labels, prop={'size':7.8})\n",
    "ax[1].set_title('Após Reamostragem')\n",
    "\n",
    "plt.show()\n",
    "\n",
    "print(f'Ocorrências no conjunto de treino antes da reamostragem:\\n{train_count.to_string()}\\n\\nOcorrências no conjunto de treino após a reamostragem:\\n{train_resampled_count.to_string()}')"
   ]
  },
  {
   "cell_type": "markdown",
   "id": "96372639",
   "metadata": {},
   "source": [
    "Percebemos que antes da reamostragem o grupo de treino possuia 199007 ocorrências de transações legítimas e 357 ocorrências de transações fraudulentas.\n",
    "\n",
    "A reamostragem equilibrou os dois grupos, retirando aleatoriamente ocorrências de transações legítimas."
   ]
  }
 ],
 "metadata": {
  "kernelspec": {
   "display_name": "Python 3.9.12 ('cc_fraud_venv': venv)",
   "language": "python",
   "name": "python3"
  },
  "language_info": {
   "codemirror_mode": {
    "name": "ipython",
    "version": 3
   },
   "file_extension": ".py",
   "mimetype": "text/x-python",
   "name": "python",
   "nbconvert_exporter": "python",
   "pygments_lexer": "ipython3",
   "version": "3.9.12"
  },
  "vscode": {
   "interpreter": {
    "hash": "be439b8fb5027df69613cf232599a2d4ddaaf2e2dd845f7754ae02b1df2fd730"
   }
  }
 },
 "nbformat": 4,
 "nbformat_minor": 5
}
