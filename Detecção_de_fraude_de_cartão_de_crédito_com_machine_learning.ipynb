{
 "cells": [
  {
   "cell_type": "markdown",
   "id": "a595c727",
   "metadata": {},
   "source": [
    "<h1 style=\"text-align: center;\">Credit Card Fraud Detector</h1>\n",
    "\n",
    "---"
   ]
  },
  {
   "cell_type": "markdown",
   "id": "ecd10101",
   "metadata": {},
   "source": [
    "# Introdução\n",
    "\n",
    "## Propósito\n",
    "\n",
    "Este projeto tem como propósito demonstrar as minhas habilidades com treinamento de modelos de classificação utilizando aprendizagem de máquina supervisionado até o momento. Pretendo utilziar estas técnicas para construir um classificador capaz de identificar transações de cartões de crédito fraudulentas.\n",
    "\n",
    "Para isso irei utilizar um conjunto de dados proveniente da plataforma Kaggle.\n",
    "\n",
    "Os dados estão disponíveis para download através deste link: https://www.kaggle.com/datasets/mlg-ulb/creditcardfraud?datasetId=310&sortBy=voteCount"
   ]
  },
  {
   "cell_type": "markdown",
   "id": "90987df5",
   "metadata": {},
   "source": [
    "## Entendendo os dados\n",
    "\n",
    "Este conjunto de dados contém transações de cartões de crédito feitas por Europeus em setembro de 2013 durante dois dias. Cada linha representa uma transação e cada coluna uma iformação sobre a transação."
   ]
  },
  {
   "cell_type": "markdown",
   "id": "b4d100ad",
   "metadata": {},
   "source": [
    "### Descrição das features\n",
    "\n",
    "O dataset contém 31 colunas e todas são numéricas. Sabemos o significado de apenas dessas 3: \"Time\", \"Amount\" e \"Class\".\n",
    "- Time: tempo (em segundos) que se passaram entre cada transação e a primeira transação do conjunto de dados\n",
    "- Amount: valor da transação\n",
    "- Class: variável binária que identifica transações como fraudulentas (1) e não-fraudulentas (0)\n",
    "\n",
    "As outras 28 features (\"V1\", \"V2\"... \"V28\") sofreram transformação PCA e tiveram seus nomes ocultados por questões de privacidade. Ou seja, a única coisa que sabemos sobre elas é que já foram escaladas."
   ]
  },
  {
   "cell_type": "markdown",
   "id": "08bb8526",
   "metadata": {},
   "source": [
    "## Objetivo\n",
    "\n",
    "Criar um modelo de aprendizagem de máquina capaz de prever se uma transação será fraudulenta ou não com base nos dados disponibilizados."
   ]
  }
 ],
 "metadata": {
  "kernelspec": {
   "display_name": "Python 3.10.4 64-bit",
   "language": "python",
   "name": "python3"
  },
  "language_info": {
   "name": "python",
   "version": "3.10.4"
  },
  "vscode": {
   "interpreter": {
    "hash": "ba18286d27dd3f1705df4025c31d2b7021c67fcd01f023a6f194ed0db21ec453"
   }
  }
 },
 "nbformat": 4,
 "nbformat_minor": 5
}
